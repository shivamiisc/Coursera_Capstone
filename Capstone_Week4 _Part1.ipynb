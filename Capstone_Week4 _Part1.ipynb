{
    "nbformat_minor": 1, 
    "cells": [
        {
            "source": "# The Battle of the Neighborhoods - Week 1\n\n\n## Introduction & Business Problem :\n\n## Problem Background\n\nThe City of New Delhi is the capital as well as one of the largest city in northern India.it is muticultural and dynamic city with lots of people and from all part of the world. Delhi being the capital of second most populous country of the world is a huge market with a lots of opportunities and is a hub for banking, finance, political theatre, fashion, arts, legal services, media, real estate,tourism and transportation in India.\n\nThis also means that the market is highly competitive and intense work oriented.since starting any venture in Delhi needs high capital and funds so it becomes very important to analyse and calculate carefully all the factors.insights from the analysis can be very highly important in understanding and strategically targeting the market.\n\n## Problem Description:\n\nA shopping mall is a centre for shopping watching movies eating and buying different stuffs and it is in itself an ecosystem of various types of business activities.\nA shopping complex can have various outlets which serves people in various ways\n 1.Fashion centres\n 2.Game centres\n 3.Theatres\n 4.Food chains\n 5.Hospitality sectors\n\nSo it is evident that to survive in such competitive market it is very important to startegically plan. Various factors need to be studied inorder to decide on the Location such as : \n\n1.New Delhi population\n2.city demographics\n3.Who are the competitions in the market\n4.Untapped markets\n5.Major economical areas\n\n## Target Audience:\nThe target audience can be any major or minor supermarket chains who are interested in opening the outlets.The objective is to locate a correct place for the opening the outlet.\nAnyone who is interested in opening a Shopping mall in New Delhi.", 
            "cell_type": "markdown", 
            "metadata": {
                "collapsed": true
            }
        }, 
        {
            "execution_count": null, 
            "cell_type": "code", 
            "metadata": {}, 
            "outputs": [], 
            "source": ""
        }
    ], 
    "metadata": {
        "kernelspec": {
            "display_name": "Python 3.6", 
            "name": "python3", 
            "language": "python"
        }, 
        "language_info": {
            "mimetype": "text/x-python", 
            "nbconvert_exporter": "python", 
            "version": "3.6.8", 
            "name": "python", 
            "file_extension": ".py", 
            "pygments_lexer": "ipython3", 
            "codemirror_mode": {
                "version": 3, 
                "name": "ipython"
            }
        }
    }, 
    "nbformat": 4
}