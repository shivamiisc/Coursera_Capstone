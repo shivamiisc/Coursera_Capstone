{
    "nbformat_minor": 1, 
    "cells": [
        {
            "source": "# The Battle of the Neighborhoods - Week 1\n## Data :\nOne city will be analysed in this project : New Delhi.\n\n###### We will be using the Dataset we got from the Wikipedia.This data consists of the localities nearby Delhi.\n### Data Source :Wikipedia\n###### link:https://en.wikipedia.org/wiki/Category:Neighbourhoods_in_Delhi\n\nOur Data set contains 136 different localities across delhi.\nWe will be using various techniques of scraping.\nand we will be usingg geocoders package of the python by which we will be able to get the latitudes and the longitudes of the locations.\n\n### Foursquare:\n###### We will be also using the foursquare for exploring our data and getting different venues and lcations using the fousquare api.\nWe will be mostly interested in Shopping mall category in exploration.", 
            "cell_type": "markdown", 
            "metadata": {
                "collapsed": true
            }
        }, 
        {
            "source": "", 
            "cell_type": "code", 
            "metadata": {}, 
            "outputs": [], 
            "execution_count": null
        }
    ], 
    "metadata": {
        "kernelspec": {
            "display_name": "Python 3.6", 
            "name": "python3", 
            "language": "python"
        }, 
        "language_info": {
            "mimetype": "text/x-python", 
            "nbconvert_exporter": "python", 
            "version": "3.6.8", 
            "name": "python", 
            "pygments_lexer": "ipython3", 
            "file_extension": ".py", 
            "codemirror_mode": {
                "version": 3, 
                "name": "ipython"
            }
        }
    }, 
    "nbformat": 4
}